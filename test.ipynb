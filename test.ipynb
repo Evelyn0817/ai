{
  "nbformat": 4,
  "nbformat_minor": 0,
  "metadata": {
    "colab": {
      "name": "test.ipynb",
      "provenance": [],
      "collapsed_sections": [],
      "authorship_tag": "ABX9TyNF8MlwuqfyEJawMLPR3gF2",
      "include_colab_link": true
    },
    "kernelspec": {
      "name": "python3",
      "display_name": "Python 3"
    },
    "language_info": {
      "name": "python"
    }
  },
  "cells": [
    {
      "cell_type": "markdown",
      "metadata": {
        "id": "view-in-github",
        "colab_type": "text"
      },
      "source": [
        "<a href=\"https://colab.research.google.com/github/Evelyn0817/ai/blob/main/test.ipynb\" target=\"_parent\"><img src=\"https://colab.research.google.com/assets/colab-badge.svg\" alt=\"Open In Colab\"/></a>"
      ]
    },
    {
      "cell_type": "code",
      "execution_count": 1,
      "metadata": {
        "colab": {
          "base_uri": "https://localhost:8080/"
        },
        "id": "rZ4TKxcaBEqj",
        "outputId": "914c1abf-32c0-4a1c-ae6e-0820dd2ce589"
      },
      "outputs": [
        {
          "output_type": "stream",
          "name": "stdout",
          "text": [
            "hey！\n"
          ]
        }
      ],
      "source": [
        "print('hey！')"
      ]
    },
    {
      "cell_type": "code",
      "source": [
        "print('wtf')"
      ],
      "metadata": {
        "id": "U8XctQV9CBFG"
      },
      "execution_count": null,
      "outputs": []
    }
  ]
}